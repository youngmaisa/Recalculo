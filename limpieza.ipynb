{
 "cells": [
  {
   "cell_type": "code",
   "execution_count": 1,
   "metadata": {},
   "outputs": [],
   "source": [
    "import pandas as pd"
   ]
  },
  {
   "cell_type": "markdown",
   "metadata": {},
   "source": [
    "## Limpieza BASES"
   ]
  },
  {
   "cell_type": "code",
   "execution_count": null,
   "metadata": {},
   "outputs": [
    {
     "name": "stdout",
     "output_type": "stream",
     "text": [
      "Archivos guardados en: \n",
      "BASE_RECEPTIVO.xlsx\n",
      "BASE_PROACTIVO.xlsx\n"
     ]
    }
   ],
   "source": [
    "\"\"\"import pandas as pd\n",
    "#ruta_archivo = r\"C:\\Users\\mmedinam\\OneDrive - Entel Peru S.A\\Documentos - EntelDrive_ __ Canal Masivo\\Archivos_Recalculo\\BASES\\2024\"\n",
    "#archivo_original = r\"NUEVA BASE - PROACTIVO y RECEPTIVO.xlsx\"\n",
    "#df = pd.read_excel(f\"{ruta_archivo}\\\\{archivo_original}\")\n",
    "\n",
    "df = pd.read_excel(\"NUEVA BASE - PROACTIVO y RECEPTIVO.xlsx\")\n",
    "\n",
    "tipos_receptivo = [\"PDV\", \"PDVX\", \"HC POWER\", \"PDVX POWER\"]\n",
    "\n",
    "# datos para RECEPTIVO y PROACTIVO\n",
    "df_receptivo = df[df['TIPO'].isin(tipos_receptivo)]\n",
    "df_proactivo = df[~df['TIPO'].isin(tipos_receptivo)]\n",
    "\n",
    "# guardar\n",
    "#ruta_receptivo = f\"{ruta_archivo}\\\\RECEPTIVO_2024.xlsx\"\n",
    "#ruta_proactivo = f\"{ruta_archivo}\\\\PROACTIVO_2024.xlsx\"\n",
    "\n",
    "ruta_receptivo = \"BASE_RECEPTIVO.xlsx\"\n",
    "ruta_proactivo = \"BASE_PROACTIVO.xlsx\"\n",
    "\n",
    "df_receptivo.to_excel(ruta_receptivo, index=False)\n",
    "df_proactivo.to_excel(ruta_proactivo, index=False)\n",
    "\n",
    "print(f\"Archivos guardados en: \\n{ruta_receptivo}\\n{ruta_proactivo}\")\"\"\""
   ]
  },
  {
   "cell_type": "code",
   "execution_count": 3,
   "metadata": {},
   "outputs": [
    {
     "name": "stdout",
     "output_type": "stream",
     "text": [
      "Archivo guardado: data\\202407.xlsx\n",
      "Archivo guardado: data\\202408.xlsx\n",
      "Archivo guardado: data\\202409.xlsx\n",
      "Archivo guardado: data\\202410.xlsx\n",
      "Archivo guardado: data\\202411.xlsx\n",
      "Archivo guardado: data\\202412.xlsx\n"
     ]
    }
   ],
   "source": [
    "import os \n",
    "import pandas as pd\n",
    "#carpeta_receptivo = f\"{ruta_archivo}\\\\RECEPTIVO_2024\"\n",
    "#carpeta_proactivo = f\"{ruta_archivo}\\\\PROACTIVO_2024\"\n",
    "\n",
    "#carpeta_receptivo = \"data/RECEPTIVO\"\n",
    "carpeta_proactivo = \"data/PROACTIVO\"\n",
    "\n",
    "#os.makedirs(carpeta_receptivo, exist_ok=True)\n",
    "#os.makedirs(carpeta_proactivo, exist_ok=True)\n",
    "\n",
    "df_proactivo = pd.read_excel(\"data/NUEVA BASE - PROACTIVO y RECEPTIVO.xlsx\", sheet_name=\"BASE_PROACTIVO\",  dtype={'DNI': str, 'DNI_LIDER': str})\n",
    "\n",
    "# df_receptivo = pd.read_excel(\"NUEVA BASE - PROACTIVO y RECEPTIVO.xlsx\", sheet_name=\"BASE_RECEPTIVO\")\n",
    "\n",
    "\n",
    "def guardar_por_mes(df, carpeta_destino):\n",
    "  \n",
    "    if 'DNI' in df.columns:\n",
    "       df['DNI'] = df['DNI'].astype(str)\n",
    "    #if 'DNI LIDER' in df.columns:\n",
    "      #  df['DNI LIDER'] = df['DNI LIDER'].astype(str)\n",
    "\n",
    "    #columnas_numericas = [\n",
    "     #   'QVENTAS', 'Urs', 'PLANILLA', 'ACELERADOR', 'BONO', \n",
    "      #  'CAMPAÑA', 'CALIDAD', 'OTROS', 'PAGO TOTAL'\n",
    "    #]\n",
    "    \n",
    "        \n",
    "    meses_unicos = df['MES'].unique()\n",
    "    \n",
    "    for mes in meses_unicos:\n",
    "       \n",
    "        df_mes = df[df['MES'] == mes]\n",
    "        \n",
    "        #df_agrupado = df_mes.groupby('DNI').agg(\n",
    "          #  {**{col: 'sum' for col in columnas_numericas},\n",
    "           #  **{col: 'first' for col in df_mes.columns if col not in columnas_numericas + ['DNI']}}\n",
    "        #).reset_index()\n",
    "\n",
    "        nombre_archivo = f\"{mes}.xlsx\"\n",
    "        ruta_archivo_mes = os.path.join(carpeta_destino, nombre_archivo)\n",
    "        \n",
    "        df_mes.to_excel(ruta_archivo_mes, index=False)\n",
    "        print(f\"Archivo guardado: {ruta_archivo_mes}\")\n",
    "\n",
    "\n",
    "#guardar_por_mes(df_receptivo, carpeta_receptivo)\n",
    "guardar_por_mes(df_proactivo, carpeta_proactivo)"
   ]
  },
  {
   "cell_type": "code",
   "execution_count": 5,
   "metadata": {},
   "outputs": [],
   "source": [
    "carpeta_receptivo = \"data/RECEPTIVO\"\n",
    "\n",
    "df_receptivo = pd.read_excel(\"data/NUEVA BASE - PROACTIVO y RECEPTIVO.xlsx\", sheet_name=\"BASE_RECEPTIVO\",  dtype={'DNI': str, 'DNI_LIDER': str})\n",
    "\n",
    "\n",
    "def guardar_por_mes(df, carpeta_destino):\n",
    "  \n",
    "    #if 'DNI' in df.columns:\n",
    "    #    df['DNI'] = df['DNI'].astype(str)\n",
    "    #if 'DNI LIDER' in df.columns:\n",
    "      #  df['DNI LIDER'] = df['DNI LIDER'].astype(str)\n",
    "\n",
    "    #if 'DNI' in df.columns:\n",
    "      #  df['DNI'] = df['DNI'].str.strip('\"')\n",
    "    #if 'DNI_LIDER' in df.columns:\n",
    "      #  df['DNI_LIDER'] = df['DNI_LIDER'].str.strip('\"')\n",
    "\n",
    "\n",
    "    columnas_numericas = [\n",
    "        'QVENTAS', 'Urs', 'PLANILLA', 'ACELERADOR', 'BONO', \n",
    "        'CAMPAÑA', 'CALIDAD', 'OTROS', 'PAGO TOTAL'\n",
    "    ]\n",
    "    \n",
    "    meses_unicos = df['MES'].unique()\n",
    "    \n",
    "    for mes in meses_unicos:\n",
    "       \n",
    "        df_mes = df[df['MES'] == mes]\n",
    "        \n",
    "    \n",
    "        df_agrupado = df_mes.groupby('DNI LIDER').agg(\n",
    "            {**{col: 'sum' for col in columnas_numericas},\n",
    "             **{col: 'first' for col in df_mes.columns if col not in columnas_numericas + ['DNI LIDER']}}\n",
    "        ).reset_index()\n",
    "      \n",
    "        nombre_archivo = f\"{mes}.xlsx\"\n",
    "        ruta_archivo_mes = os.path.join(carpeta_destino, nombre_archivo)\n",
    "        \n",
    "        with pd.ExcelWriter(ruta_archivo_mes, engine='openpyxl') as writer:\n",
    "            df_mes.to_excel(writer, sheet_name='Vista_Normal', index=False)\n",
    "            df_agrupado.to_excel(writer, sheet_name='Vista_Agrupada', index=False)\n",
    "        \n",
    "\n",
    "guardar_por_mes(df_receptivo, carpeta_receptivo)\n"
   ]
  },
  {
   "cell_type": "markdown",
   "metadata": {},
   "source": [
    "## LIMPIEZA SS MASIVO PARA CRUCE"
   ]
  },
  {
   "cell_type": "code",
   "execution_count": 5,
   "metadata": {},
   "outputs": [
    {
     "name": "stderr",
     "output_type": "stream",
     "text": [
      "C:\\Users\\mmedinam\\AppData\\Local\\Temp\\ipykernel_127268\\1489981729.py:2: DtypeWarning: Columns (32,39) have mixed types. Specify dtype option on import or set low_memory=False.\n",
      "  df = pd.read_csv(\"Actividad/Actividad_SS_Masivo.csv\")\n"
     ]
    }
   ],
   "source": [
    "import pandas as pd\n",
    "df = pd.read_csv(\"Actividad/Actividad_SS_Masivo.csv\")\n",
    "\n",
    "df_2024 = df[df['NUMPERIODO'].astype(str).str.contains('2024', na=False)]\n",
    "\n",
    "#df_2024.to_excel(\"ACTIVIDAD_SS_2024.xlsx\", index=False)"
   ]
  },
  {
   "cell_type": "code",
   "execution_count": 6,
   "metadata": {},
   "outputs": [],
   "source": [
    "import pandas as pd\n",
    "#ruta_archivo = r\"C:\\Users\\mmedinam\\OneDrive - Entel Peru S.A\\Documentos - EntelDrive_ __ Canal Masivo\\Archivos_Recalculo\\ACTIVIDAD_SS_MASIVO\\2024\"\n",
    "#archivo_original = r\"Actividad_SS_2024.csv\"\n",
    "\n",
    "\n",
    "#df = pd.read_csv(f\"{ruta_archivo}\\\\{archivo_original}\")\n",
    "#df = pd.read_excel('Actividad/ACTIVIDAD_SS_2024.xlsx')\n",
    "tipos_receptivo = [\"PDV\", \"PDVX\", \"HC POWER\", \"PDVX POWER\"]\n",
    "tipos_proactivo = [\"DESARROLLADOR\", \"HC EMO MERCADO\", \"FULL PREPAGO DD\", \"DAE\", \"FULL PREPAGO DAE\", \"HC MONOMARCA\", \"HC EMO\"]\n",
    "\n",
    "\n",
    "# datos para RECEPTIVO y PROACTIVO\n",
    "df_receptivo = df_2024[df_2024['VCHJER_CANALVENTA'].isin(tipos_receptivo)]\n",
    "df_proactivo = df_2024[df_2024['VCHJER_CANALVENTA'].isin(tipos_proactivo)]\n",
    "\n",
    "\n",
    "# guardar\n",
    "#ruta_receptivo = f\"{ruta_archivo}\\\\RECEPTIVO_2024.xlsx\"\n",
    "#ruta_proactivo = f\"{ruta_archivo}\\\\PROACTIVO_2024.xlsx\"\n",
    "#df_receptivo.to_excel(ruta_receptivo, index=False)\n",
    "#df_proactivo.to_excel(ruta_proactivo, index=False)\n",
    "\n",
    "#df_receptivo.to_excel(\"ACTIVIDAD_SS_RECEPTIVO_2024.xlsx\", index=False)\n",
    "#df_proactivo.to_excel(\"ACTIVIDAD_SS_PROACTIVO_2024.xlsx\", index=False)\n",
    "\n",
    "\n",
    "#print(f\"Archivos guardados en: \\n{ruta_receptivo}\\n{ruta_proactivo}\")"
   ]
  },
  {
   "cell_type": "code",
   "execution_count": 7,
   "metadata": {},
   "outputs": [
    {
     "name": "stderr",
     "output_type": "stream",
     "text": [
      "C:\\Users\\mmedinam\\AppData\\Local\\Temp\\ipykernel_127268\\3813770433.py:15: SettingWithCopyWarning: \n",
      "A value is trying to be set on a copy of a slice from a DataFrame.\n",
      "Try using .loc[row_indexer,col_indexer] = value instead\n",
      "\n",
      "See the caveats in the documentation: https://pandas.pydata.org/pandas-docs/stable/user_guide/indexing.html#returning-a-view-versus-a-copy\n",
      "  df['VCHVENDEDOR_PACKSIM'] = df['VCHVENDEDOR_PACKSIM'].astype(str).str.zfill(8)\n"
     ]
    },
    {
     "name": "stdout",
     "output_type": "stream",
     "text": [
      "Archivo guardado: Actividad/RECEPTIVO\\202406.xlsx\n",
      "Archivo guardado: Actividad/RECEPTIVO\\202411.xlsx\n",
      "Archivo guardado: Actividad/RECEPTIVO\\202407.xlsx\n",
      "Archivo guardado: Actividad/RECEPTIVO\\202409.xlsx\n",
      "Archivo guardado: Actividad/RECEPTIVO\\202412.xlsx\n",
      "Archivo guardado: Actividad/RECEPTIVO\\202405.xlsx\n",
      "Archivo guardado: Actividad/RECEPTIVO\\202402.xlsx\n",
      "Archivo guardado: Actividad/RECEPTIVO\\202401.xlsx\n",
      "Archivo guardado: Actividad/RECEPTIVO\\202408.xlsx\n",
      "Archivo guardado: Actividad/RECEPTIVO\\202403.xlsx\n",
      "Archivo guardado: Actividad/RECEPTIVO\\202404.xlsx\n",
      "Archivo guardado: Actividad/RECEPTIVO\\202410.xlsx\n",
      "Archivo guardado: Actividad/PROACTIVO\\202408.xlsx\n"
     ]
    },
    {
     "name": "stderr",
     "output_type": "stream",
     "text": [
      "C:\\Users\\mmedinam\\AppData\\Local\\Temp\\ipykernel_127268\\3813770433.py:15: SettingWithCopyWarning: \n",
      "A value is trying to be set on a copy of a slice from a DataFrame.\n",
      "Try using .loc[row_indexer,col_indexer] = value instead\n",
      "\n",
      "See the caveats in the documentation: https://pandas.pydata.org/pandas-docs/stable/user_guide/indexing.html#returning-a-view-versus-a-copy\n",
      "  df['VCHVENDEDOR_PACKSIM'] = df['VCHVENDEDOR_PACKSIM'].astype(str).str.zfill(8)\n"
     ]
    },
    {
     "name": "stdout",
     "output_type": "stream",
     "text": [
      "Archivo guardado: Actividad/PROACTIVO\\202412.xlsx\n",
      "Archivo guardado: Actividad/PROACTIVO\\202406.xlsx\n",
      "Archivo guardado: Actividad/PROACTIVO\\202409.xlsx\n",
      "Archivo guardado: Actividad/PROACTIVO\\202410.xlsx\n",
      "Archivo guardado: Actividad/PROACTIVO\\202405.xlsx\n",
      "Archivo guardado: Actividad/PROACTIVO\\202411.xlsx\n",
      "Archivo guardado: Actividad/PROACTIVO\\202403.xlsx\n",
      "Archivo guardado: Actividad/PROACTIVO\\202402.xlsx\n",
      "Archivo guardado: Actividad/PROACTIVO\\202407.xlsx\n",
      "Archivo guardado: Actividad/PROACTIVO\\202404.xlsx\n",
      "Archivo guardado: Actividad/PROACTIVO\\202401.xlsx\n"
     ]
    }
   ],
   "source": [
    "import os\n",
    "import numpy as np\n",
    "#ruta_archivo = r\"C:\\Users\\mmedinam\\OneDrive - Entel Peru S.A\\Documentos - EntelDrive_ __ Canal Masivo\\Archivos_Recalculo\\ACTIVIDAD_SS_MASIVO\\2024\"\n",
    "#carpeta_receptivo = f\"{ruta_archivo}\\\\RECEPTIVO_2024\"\n",
    "#carpeta_proactivo = f\"{ruta_archivo}\\\\PROACTIVO_2024\"\n",
    "\n",
    "carpeta_receptivo = \"Actividad/RECEPTIVO\"\n",
    "carpeta_proactivo = \"Actividad/PROACTIVO\"\n",
    "\n",
    "os.makedirs(carpeta_receptivo, exist_ok=True)\n",
    "os.makedirs(carpeta_proactivo, exist_ok=True)\n",
    "\n",
    "def guardar_agrupado_por_mes(df, carpeta_destino, dni):\n",
    "    \n",
    "    df['VCHVENDEDOR_PACKSIM'] = df['VCHVENDEDOR_PACKSIM'].astype(str).str.zfill(8)\n",
    "    meses_unicos = df['NUMPERIODO'].unique()\n",
    "\n",
    "    for mes in meses_unicos:\n",
    "        \n",
    "        df_mes = df[df['NUMPERIODO'] == mes]\n",
    "        \n",
    "        df_agrupado = df_mes.groupby('VCHVENDEDOR_PACKSIM').agg({\n",
    "            'Q_VENTAS': 'sum',\n",
    "            'FLAG_SUS_M2': 'sum',\n",
    "            'PERMANENCIA_2': 'sum',\n",
    "            'NUMPERIODO': 'first'\n",
    "        }).reset_index()\n",
    "      \n",
    "        df_agrupado.rename(\n",
    "            columns={\n",
    "                'Q_VENTAS': 'SS',\n",
    "                #'FLAG_SUS_M2': 'SUSM2',\n",
    "                #'PERMANENCIA_2': 'PERM2',\n",
    "                'VCHVENDEDOR_PACKSIM': dni\n",
    "            },\n",
    "            inplace=True\n",
    "        )\n",
    "        \n",
    "        df_agrupado['NUEVA_COL'] = np.where((df_agrupado['FLAG_SUS_M2']>=1) | (df_agrupado['PERMANENCIA_2']>=1), 1, 0)\n",
    "        df_agrupado = df_agrupado[[dni,'NUEVA_COL', 'SS']]\n",
    "\n",
    "\n",
    "       #df_agrupado['ALERTA'] = df_agrupado['NUEVA_COL']/ df_agrupado['SS']\n",
    "\n",
    "        nombre_archivo = f\"{mes}.xlsx\"\n",
    "        ruta_archivo = os.path.join(carpeta_destino, nombre_archivo)\n",
    "        df_agrupado.to_excel(ruta_archivo, index=False)\n",
    "        print(f\"Archivo guardado: {ruta_archivo}\")\n",
    "\n",
    "#guardar_agrupado_por_mes(df_receptivo, carpeta_receptivo, 'DNI LIDER')\n",
    "#guardar_agrupado_por_mes(df_proactivo, carpeta_proactivo, 'DNI')\n",
    "\n",
    "guardar_agrupado_por_mes(df_receptivo, carpeta_receptivo, 'DNI LIDER')\n",
    "guardar_agrupado_por_mes(df_proactivo, carpeta_proactivo, 'DNI')"
   ]
  },
  {
   "cell_type": "markdown",
   "metadata": {},
   "source": [
    "## CRUCE PROACTIVO\n"
   ]
  },
  {
   "cell_type": "code",
   "execution_count": 6,
   "metadata": {},
   "outputs": [
    {
     "name": "stdout",
     "output_type": "stream",
     "text": [
      "Archivo procesado y guardado: data/PROACTIVO\\202407.xlsx\n",
      "Archivo procesado y guardado: data/PROACTIVO\\202412.xlsx\n",
      "Archivo procesado y guardado: data/PROACTIVO\\202410.xlsx\n",
      "Archivo procesado y guardado: data/PROACTIVO\\202411.xlsx\n",
      "Archivo procesado y guardado: data/PROACTIVO\\202409.xlsx\n",
      "Archivo procesado y guardado: data/PROACTIVO\\202408.xlsx\n"
     ]
    }
   ],
   "source": [
    "import os\n",
    "import pandas as pd\n",
    "\n",
    "#carpeta_1 = r\"C:\\Users\\mmedinam\\OneDrive - Entel Peru S.A\\Documentos - EntelDrive_ __ Canal Masivo\\Archivos_Recalculo\\BASES\\2024\\PROACTIVO_2024\"\n",
    "#carpeta_2 = r\"C:\\Users\\mmedinam\\OneDrive - Entel Peru S.A\\Documentos - EntelDrive_ __ Canal Masivo\\Archivos_Recalculo\\ACTIVIDAD_SS_MASIVO\\2024\\PROACTIVO_2024\"\n",
    "carpeta_1 = \"data/PROACTIVO\"\n",
    "carpeta_2 = \"Actividad/PROACTIVO\"\n",
    "\n",
    "archivos_carpeta_1 = set(os.listdir(carpeta_1))\n",
    "archivos_carpeta_2 = set(os.listdir(carpeta_2))\n",
    "\n",
    "archivos_comunes = archivos_carpeta_1.intersection(archivos_carpeta_2)\n",
    "\n",
    "for archivo in archivos_comunes:\n",
    "    ruta_1 = os.path.join(carpeta_1, archivo)\n",
    "    ruta_2 = os.path.join(carpeta_2, archivo)\n",
    "\n",
    "    df_1 = pd.read_excel(ruta_1)\n",
    "    df_2 = pd.read_excel(ruta_2)\n",
    "\n",
    "    df_1['DNI'] = df_1['DNI'].astype(str)\n",
    "    df_2['DNI'] = df_2['DNI'].astype(str)\n",
    "   \n",
    "    df_resultado = df_1.merge(df_2, on='DNI', how='left', suffixes=('', '_OTRA'))\n",
    "\n",
    "    df_resultado = df_resultado.fillna(0)\n",
    "\n",
    "    df_resultado.to_excel(ruta_1, index=False)\n",
    "    print(f\"Archivo procesado y guardado: {ruta_1}\")\n"
   ]
  },
  {
   "cell_type": "markdown",
   "metadata": {},
   "source": [
    "## CRUCE RECEPTIVO"
   ]
  },
  {
   "cell_type": "code",
   "execution_count": 40,
   "metadata": {},
   "outputs": [
    {
     "name": "stdout",
     "output_type": "stream",
     "text": [
      "Archivo procesado y guardado: data/RECEPTIVO\\202408.xlsx\n",
      "Archivo procesado y guardado: data/RECEPTIVO\\202409.xlsx\n",
      "Archivo procesado y guardado: data/RECEPTIVO\\202407.xlsx\n",
      "Archivo procesado y guardado: data/RECEPTIVO\\202411.xlsx\n",
      "Archivo procesado y guardado: data/RECEPTIVO\\202410.xlsx\n"
     ]
    }
   ],
   "source": [
    "\"\"\"import os\n",
    "import pandas as pd\n",
    "\n",
    "#carpeta_1 = r\"C:\\Users\\mmedinam\\OneDrive - Entel Peru S.A\\Documentos - EntelDrive_ __ Canal Masivo\\Archivos_Recalculo\\BASES\\2024\\RECEPTIVO_2024\"\n",
    "#carpeta_2 = r\"C:\\Users\\mmedinam\\OneDrive - Entel Peru S.A\\Documentos - EntelDrive_ __ Canal Masivo\\Archivos_Recalculo\\ACTIVIDAD_SS_MASIVO\\2024\\RECEPTIVO_2024\"\n",
    "carpeta_1 = \"data/RECEPTIVO\"\n",
    "carpeta_2 = \"Actividad/RECEPTIVO\"\n",
    "\n",
    "archivos_carpeta_1 = set(os.listdir(carpeta_1))\n",
    "archivos_carpeta_2 = set(os.listdir(carpeta_2))\n",
    "\n",
    "archivos_comunes = archivos_carpeta_1.intersection(archivos_carpeta_2)\n",
    "\n",
    "for archivo in archivos_comunes:\n",
    "    ruta_1 = os.path.join(carpeta_1, archivo)\n",
    "    ruta_2 = os.path.join(carpeta_2, archivo)\n",
    "\n",
    "    df_1 = pd.read_excel(ruta_1)\n",
    "    df_2 = pd.read_excel(ruta_2)\n",
    "\n",
    "   \n",
    "    df_1['DNI LIDER'] = df_1['DNI LIDER'].astype(str)\n",
    "    df_2['DNI LIDER'] = df_2['DNI LIDER'].astype(str)\n",
    "\n",
    "    df_resultado = df_1.merge(df_2, on='DNI LIDER', how='left', suffixes=('', '_OTRA'))\n",
    "\n",
    "    df_resultado = df_resultado.fillna(0)\n",
    "\n",
    "    df_resultado.to_excel(ruta_1, index=False)\n",
    "    print(f\"Archivo procesado y guardado: {ruta_1}\")\n",
    "\"\"\"\n"
   ]
  },
  {
   "cell_type": "code",
   "execution_count": 7,
   "metadata": {},
   "outputs": [
    {
     "name": "stdout",
     "output_type": "stream",
     "text": [
      "Vista Agrupada procesada y guardada en: data/RECEPTIVO\\202407.xlsx\n",
      "Vista Agrupada procesada y guardada en: data/RECEPTIVO\\202412.xlsx\n",
      "Vista Agrupada procesada y guardada en: data/RECEPTIVO\\202410.xlsx\n",
      "Vista Agrupada procesada y guardada en: data/RECEPTIVO\\202411.xlsx\n",
      "Vista Agrupada procesada y guardada en: data/RECEPTIVO\\202409.xlsx\n",
      "Vista Agrupada procesada y guardada en: data/RECEPTIVO\\202408.xlsx\n"
     ]
    }
   ],
   "source": [
    "import os\n",
    "import pandas as pd\n",
    "\n",
    "carpeta_1 = \"data/RECEPTIVO\"\n",
    "carpeta_2 = \"Actividad/RECEPTIVO\"\n",
    "\n",
    "\n",
    "archivos_carpeta_1 = set(os.listdir(carpeta_1))\n",
    "archivos_carpeta_2 = set(os.listdir(carpeta_2))\n",
    "archivos_comunes = archivos_carpeta_1.intersection(archivos_carpeta_2)\n",
    "\n",
    "\n",
    "for archivo in archivos_comunes:\n",
    "    ruta_1 = os.path.join(carpeta_1, archivo)\n",
    "    ruta_2 = os.path.join(carpeta_2, archivo)\n",
    "\n",
    "    try:\n",
    "       \n",
    "        with pd.ExcelFile(ruta_1) as excel_1:\n",
    "            if 'Vista_Agrupada' not in excel_1.sheet_names:\n",
    "                print(f\"Advertencia: 'Vista_Agrupada' no encontrada en {ruta_1}.\")\n",
    "                continue\n",
    "\n",
    "            df_agrupado = pd.read_excel(excel_1, sheet_name='Vista_Agrupada')\n",
    "\n",
    "      \n",
    "        df_2 = pd.read_excel(ruta_2) # df actividad ss masiva\n",
    "\n",
    "      \n",
    "        df_agrupado['DNI LIDER'] = df_agrupado['DNI LIDER'].astype(str)\n",
    "        df_2['DNI LIDER'] = df_2['DNI LIDER'].astype(str)\n",
    "\n",
    "       \n",
    "        df_agrupado_resultado = df_agrupado.merge(\n",
    "            df_2, \n",
    "            on='DNI LIDER', \n",
    "            how='left', \n",
    "            suffixes=('', '_OTRA')\n",
    "        )\n",
    "\n",
    "     \n",
    "        df_agrupado_resultado = df_agrupado_resultado.fillna(0)\n",
    "\n",
    "      \n",
    "        with pd.ExcelWriter(ruta_1, engine='openpyxl', mode='a', if_sheet_exists='replace') as writer:\n",
    "            df_agrupado_resultado.to_excel(writer, sheet_name='Vista_Agrupada', index=False)\n",
    "\n",
    "        print(f\"Vista Agrupada procesada y guardada en: {ruta_1}\")\n",
    "\n",
    "    except Exception as e:\n",
    "        print(f\"Error al procesar {archivo}: {e}\")\n",
    "\n"
   ]
  }
 ],
 "metadata": {
  "kernelspec": {
   "display_name": "Python 3",
   "language": "python",
   "name": "python3"
  },
  "language_info": {
   "codemirror_mode": {
    "name": "ipython",
    "version": 3
   },
   "file_extension": ".py",
   "mimetype": "text/x-python",
   "name": "python",
   "nbconvert_exporter": "python",
   "pygments_lexer": "ipython3",
   "version": "3.11.1"
  }
 },
 "nbformat": 4,
 "nbformat_minor": 2
}
